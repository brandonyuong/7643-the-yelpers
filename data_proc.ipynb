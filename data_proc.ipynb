{
 "cells": [
  {
   "cell_type": "markdown",
   "metadata": {},
   "source": [
    "# Classifying Humorous Text from Yelp Reviews"
   ]
  },
  {
   "cell_type": "code",
   "execution_count": 44,
   "metadata": {},
   "outputs": [],
   "source": [
    "# !!! Note for Group: takes my machine about 40 to run this notebook.\n",
    "# You may want to run it on Colab or download \n",
    "# https://drive.google.com/file/d/11WdZeVN-hc-HmODwFiNHgeZse_v3yxNH/view?usp=sharing \n",
    "# for csv of approx 840k+ texts ('review') with labels ('humor') instead."
   ]
  },
  {
   "cell_type": "code",
   "execution_count": 31,
   "metadata": {},
   "outputs": [],
   "source": [
    "import json\n",
    "import pandas as pd\n",
    "import numpy as np\n",
    "import re\n",
    "import matplotlib.pyplot as plt\n",
    "from sklearn.model_selection import train_test_split\n",
    "from etl_humor import *"
   ]
  },
  {
   "cell_type": "markdown",
   "metadata": {},
   "source": [
    "## Load & Clean Data"
   ]
  },
  {
   "cell_type": "markdown",
   "metadata": {},
   "source": [
    "##### Download dataset from https://www.kaggle.com/yelp-dataset/yelp-dataset"
   ]
  },
  {
   "cell_type": "code",
   "execution_count": 32,
   "metadata": {},
   "outputs": [],
   "source": [
    "review_df = df_from_json(\"./data/yelp_academic_dataset_review.json\")\n",
    "business_df = df_from_json(\"./data/yelp_academic_dataset_business.json\")"
   ]
  },
  {
   "cell_type": "code",
   "execution_count": 33,
   "metadata": {},
   "outputs": [],
   "source": [
    "# Clean review text and add word count column to review df\n",
    "review_df = review_df[['user_id', 'business_id', 'stars', 'useful', 'funny','text']]\n",
    "review_df['text'] = review_df['text'].apply(format_review)\n",
    "review_df['word_count'] = review_df['text'].apply(word_count)"
   ]
  },
  {
   "cell_type": "code",
   "execution_count": 34,
   "metadata": {},
   "outputs": [],
   "source": [
    "# Select columns in business df and rename stars to avg_stars for business stars\n",
    "business_df = business_df[['business_id', 'name', 'city', 'state', 'stars', 'review_count', 'is_open', 'attributes', 'categories']]\n",
    "business_df.columns = ['business_id', 'name', 'city', 'state', 'avg_stars', 'review_count','is_open', 'attributes','categories']\n",
    "business_df = business_df[business_df['name'].notna()]"
   ]
  },
  {
   "cell_type": "code",
   "execution_count": 35,
   "metadata": {},
   "outputs": [],
   "source": [
    "# merge reviews with business df to get name, etc.\n",
    "merged_data_large = pd.merge(business_df, review_df, on=\"business_id\", how = \"left\")"
   ]
  },
  {
   "cell_type": "code",
   "execution_count": 36,
   "metadata": {},
   "outputs": [],
   "source": [
    "# Concatenate the name of the business and the text together (some humor is based on the business name)\n",
    "merged_data_large['review'] = merged_data_large.name + '. ' + merged_data_large.text"
   ]
  },
  {
   "cell_type": "code",
   "execution_count": 37,
   "metadata": {},
   "outputs": [],
   "source": [
    "# Select columns for final df\n",
    "final_df_large = merged_data_large[['business_id', 'categories', 'user_id', 'funny', 'review', 'word_count']]"
   ]
  },
  {
   "cell_type": "code",
   "execution_count": 38,
   "metadata": {},
   "outputs": [
    {
     "data": {
      "image/png": "[encoded data removed]",
      "text/plain": [
       "<Figure size 432x288 with 1 Axes>"
      ]
     },
     "metadata": {
      "needs_background": "light"
     },
     "output_type": "display_data"
    }
   ],
   "source": [
    "# We will consider a review as humorous if it has 3 or more funny votes and not humorous if it has 0 funny votes. \n",
    "# Plot distribution of funny votes.\n",
    "\n",
    "humor_threshold = 3\n",
    "\n",
    "humor_pt = final_df_large.pivot_table('user_id', ['funny'], aggfunc='count').reset_index()\n",
    "funny_votes = humor_pt.funny.values\n",
    "\n",
    "plt.hist(funny_votes, bins=50, density = False)  # density=False would make counts\n",
    "plt.axvline(x=5, color = 'red')\n",
    "plt.text(5, 2, ' Humor Threshold = 3', color = 'pink')\n",
    "plt.ylabel('# Reviews')\n",
    "plt.xlabel('# Funny Votes')\n",
    "plt.title('Distribution of Funny Votes in Reviews')\n",
    "plt.show()"
   ]
  },
  {
   "cell_type": "code",
   "execution_count": 39,
   "metadata": {},
   "outputs": [
    {
     "name": "stderr",
     "output_type": "stream",
     "text": [
      "/opt/anaconda3/envs/USGS_1/lib/python3.7/site-packages/ipykernel_launcher.py:11: SettingWithCopyWarning: \n",
      "A value is trying to be set on a copy of a slice from a DataFrame.\n",
      "Try using .loc[row_indexer,col_indexer] = value instead\n",
      "\n",
      "See the caveats in the documentation: https://pandas.pydata.org/pandas-docs/stable/user_guide/indexing.html#returning-a-view-versus-a-copy\n",
      "  # This is added back by InteractiveShellApp.init_path()\n"
     ]
    },
    {
     "name": "stdout",
     "output_type": "stream",
     "text": [
      "  humor   review\n",
      "0     0  7038968\n",
      "1     1   340864\n",
      "2   NaN  1255571\n"
     ]
    }
   ],
   "source": [
    "# Determine how many text we have considered not humorous, humorous, and those that dont make the humor threshold\n",
    "def f(row):\n",
    "    if row['funny'] >= humor_threshold:\n",
    "        val = 1\n",
    "    elif row['funny'] == 0:\n",
    "        val = 0\n",
    "    else:\n",
    "        val = 'NaN'\n",
    "    return val\n",
    "\n",
    "final_df_large['humor'] = final_df_large.apply(f, axis=1)\n",
    "\n",
    "final_df_large = final_df_large[final_df_large['humor'].notna()]\n",
    "final_df_large = final_df_large[final_df_large['review'].notna()]\n",
    "\n",
    "humor_label_pt = final_df_large.pivot_table('review', ['humor'], aggfunc='count').reset_index()\n",
    "print(humor_label_pt)"
   ]
  },
  {
   "cell_type": "code",
   "execution_count": 40,
   "metadata": {},
   "outputs": [],
   "source": [
    "# Select all humorous and 500k not humorous (plain) texts to create more balanced train/test sets.\n",
    "plain_text = final_df_large[final_df_large.humor == 0]\n",
    "plain_text = plain_text.sample(n = 500000)\n",
    "humor_text = final_df_large[final_df_large.humor == 1]"
   ]
  },
  {
   "cell_type": "code",
   "execution_count": 41,
   "metadata": {},
   "outputs": [],
   "source": [
    "result = pd.concat([plain_text, humor_text])"
   ]
  },
  {
   "cell_type": "code",
   "execution_count": 43,
   "metadata": {},
   "outputs": [],
   "source": [
    "result.to_csv(\"./data/yelp_humor_merged.csv\", index=False)"
   ]
  },
  {
   "cell_type": "markdown",
   "metadata": {},
   "source": [
    "## Split into training and testing sets"
   ]
  },
  {
   "cell_type": "code",
   "execution_count": 42,
   "metadata": {},
   "outputs": [],
   "source": [
    "labels = list(result.humor.values)\n",
    "reviews = list(result.review.values)\n",
    "\n",
    "X_train, X_test, y_train, y_test = train_test_split(reviews, labels, test_size=0.2, random_state=0, stratify=labels)"
   ]
  }
 ],
 "metadata": {
  "kernelspec": {
   "display_name": "Python 3",
   "language": "python",
   "name": "python3"
  },
  "language_info": {
   "codemirror_mode": {
    "name": "ipython",
    "version": 3
   },
   "file_extension": ".py",
   "mimetype": "text/x-python",
   "name": "python",
   "nbconvert_exporter": "python",
   "pygments_lexer": "ipython3",
   "version": "3.7.9"
  }
 },
 "nbformat": 4,
 "nbformat_minor": 5
}
